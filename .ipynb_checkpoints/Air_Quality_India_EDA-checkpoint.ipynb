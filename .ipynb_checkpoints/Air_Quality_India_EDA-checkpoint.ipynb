{
 "cells": [
  {
   "cell_type": "code",
   "execution_count": 126,
   "id": "41d1c148-45d0-4e7c-a353-f56b74dae73a",
   "metadata": {},
   "outputs": [],
   "source": [
    "import numpy as np\n",
    "import pandas as pd\n",
    "import seaborn as sns\n",
    "import matplotlib.pyplot as plt\n",
    "\n",
    "import warnings\n",
    "warnings.filterwarnings('ignore')"
   ]
  },
  {
   "cell_type": "code",
   "execution_count": 36,
   "id": "6164651e-b73b-408f-8214-e63535e63bfe",
   "metadata": {},
   "outputs": [
    {
     "data": {
      "text/plain": [
       "['.ipynb_checkpoints', 'Air_Quality_India_EDA.ipynb', 'data.csv']"
      ]
     },
     "execution_count": 36,
     "metadata": {},
     "output_type": "execute_result"
    }
   ],
   "source": [
    "import os\n",
    "os.listdir(os.getcwd())"
   ]
  },
  {
   "cell_type": "code",
   "execution_count": 37,
   "id": "dddd3d93-7f31-4f6e-84d4-2265a01e4d3d",
   "metadata": {},
   "outputs": [],
   "source": [
    "B = \"\\033[1m\"\n",
    "R = \"\\033[0m\""
   ]
  },
  {
   "cell_type": "code",
   "execution_count": 38,
   "id": "ede01772-0071-4afc-9e9c-9c0bebc10f2e",
   "metadata": {},
   "outputs": [
    {
     "name": "stdout",
     "output_type": "stream",
     "text": [
      "Encoding found on dataset \"data.csv\" is \u001b[1mascii\u001b[0m with confidence \u001b[1m1.0\u001b[0m\n"
     ]
    },
    {
     "name": "stderr",
     "output_type": "stream",
     "text": [
      "C:\\Users\\bhima\\AppData\\Local\\Temp\\ipykernel_30684\\1929227730.py:11: DtypeWarning: Columns (0) have mixed types. Specify dtype option on import or set low_memory=False.\n",
      "  data = pd.read_csv(\"data.csv\", encoding = encoding, encoding_errors = 'ignore')\n"
     ]
    },
    {
     "name": "stdout",
     "output_type": "stream",
     "text": [
      "Dataset has been read successfully.\n"
     ]
    }
   ],
   "source": [
    "import chardet\n",
    "\n",
    "dataset = \"data.csv\"\n",
    "with open(dataset, 'rb') as f:\n",
    "    result = chardet.detect(f.read(100000))\n",
    "    encoding = result['encoding']\n",
    "    confidence = result['confidence']\n",
    "    print(f\"Encoding found on dataset \\\"{dataset}\\\" is {B}{encoding}{R} with confidence {B}{confidence}{R}\")\n",
    "    \n",
    "\n",
    "data = pd.read_csv(\"data.csv\", encoding = encoding, encoding_errors = 'ignore')\n",
    "print(\"Dataset has been read successfully.\")"
   ]
  },
  {
   "cell_type": "code",
   "execution_count": 58,
   "id": "93294e3e-82db-4ba1-846a-0081051dbb15",
   "metadata": {},
   "outputs": [
    {
     "data": {
      "text/plain": [
       "(435742, 13)"
      ]
     },
     "execution_count": 58,
     "metadata": {},
     "output_type": "execute_result"
    }
   ],
   "source": [
    "data.shape"
   ]
  },
  {
   "cell_type": "code",
   "execution_count": 39,
   "id": "f8bd7624-f918-4d0b-a728-4c51ad1b6777",
   "metadata": {},
   "outputs": [
    {
     "data": {
      "text/html": [
       "<div>\n",
       "<style scoped>\n",
       "    .dataframe tbody tr th:only-of-type {\n",
       "        vertical-align: middle;\n",
       "    }\n",
       "\n",
       "    .dataframe tbody tr th {\n",
       "        vertical-align: top;\n",
       "    }\n",
       "\n",
       "    .dataframe thead th {\n",
       "        text-align: right;\n",
       "    }\n",
       "</style>\n",
       "<table border=\"1\" class=\"dataframe\">\n",
       "  <thead>\n",
       "    <tr style=\"text-align: right;\">\n",
       "      <th></th>\n",
       "      <th>stn_code</th>\n",
       "      <th>sampling_date</th>\n",
       "      <th>state</th>\n",
       "      <th>location</th>\n",
       "      <th>agency</th>\n",
       "      <th>type</th>\n",
       "      <th>so2</th>\n",
       "      <th>no2</th>\n",
       "      <th>rspm</th>\n",
       "      <th>spm</th>\n",
       "      <th>location_monitoring_station</th>\n",
       "      <th>pm2_5</th>\n",
       "      <th>date</th>\n",
       "    </tr>\n",
       "  </thead>\n",
       "  <tbody>\n",
       "    <tr>\n",
       "      <th>0</th>\n",
       "      <td>150.0</td>\n",
       "      <td>February - M021990</td>\n",
       "      <td>Andhra Pradesh</td>\n",
       "      <td>Hyderabad</td>\n",
       "      <td>NaN</td>\n",
       "      <td>Residential, Rural and other Areas</td>\n",
       "      <td>4.8</td>\n",
       "      <td>17.4</td>\n",
       "      <td>NaN</td>\n",
       "      <td>NaN</td>\n",
       "      <td>NaN</td>\n",
       "      <td>NaN</td>\n",
       "      <td>1990-02-01</td>\n",
       "    </tr>\n",
       "    <tr>\n",
       "      <th>1</th>\n",
       "      <td>151.0</td>\n",
       "      <td>February - M021990</td>\n",
       "      <td>Andhra Pradesh</td>\n",
       "      <td>Hyderabad</td>\n",
       "      <td>NaN</td>\n",
       "      <td>Industrial Area</td>\n",
       "      <td>3.1</td>\n",
       "      <td>7.0</td>\n",
       "      <td>NaN</td>\n",
       "      <td>NaN</td>\n",
       "      <td>NaN</td>\n",
       "      <td>NaN</td>\n",
       "      <td>1990-02-01</td>\n",
       "    </tr>\n",
       "    <tr>\n",
       "      <th>2</th>\n",
       "      <td>152.0</td>\n",
       "      <td>February - M021990</td>\n",
       "      <td>Andhra Pradesh</td>\n",
       "      <td>Hyderabad</td>\n",
       "      <td>NaN</td>\n",
       "      <td>Residential, Rural and other Areas</td>\n",
       "      <td>6.2</td>\n",
       "      <td>28.5</td>\n",
       "      <td>NaN</td>\n",
       "      <td>NaN</td>\n",
       "      <td>NaN</td>\n",
       "      <td>NaN</td>\n",
       "      <td>1990-02-01</td>\n",
       "    </tr>\n",
       "    <tr>\n",
       "      <th>3</th>\n",
       "      <td>150.0</td>\n",
       "      <td>March - M031990</td>\n",
       "      <td>Andhra Pradesh</td>\n",
       "      <td>Hyderabad</td>\n",
       "      <td>NaN</td>\n",
       "      <td>Residential, Rural and other Areas</td>\n",
       "      <td>6.3</td>\n",
       "      <td>14.7</td>\n",
       "      <td>NaN</td>\n",
       "      <td>NaN</td>\n",
       "      <td>NaN</td>\n",
       "      <td>NaN</td>\n",
       "      <td>1990-03-01</td>\n",
       "    </tr>\n",
       "    <tr>\n",
       "      <th>4</th>\n",
       "      <td>151.0</td>\n",
       "      <td>March - M031990</td>\n",
       "      <td>Andhra Pradesh</td>\n",
       "      <td>Hyderabad</td>\n",
       "      <td>NaN</td>\n",
       "      <td>Industrial Area</td>\n",
       "      <td>4.7</td>\n",
       "      <td>7.5</td>\n",
       "      <td>NaN</td>\n",
       "      <td>NaN</td>\n",
       "      <td>NaN</td>\n",
       "      <td>NaN</td>\n",
       "      <td>1990-03-01</td>\n",
       "    </tr>\n",
       "  </tbody>\n",
       "</table>\n",
       "</div>"
      ],
      "text/plain": [
       "  stn_code       sampling_date           state   location agency  \\\n",
       "0    150.0  February - M021990  Andhra Pradesh  Hyderabad    NaN   \n",
       "1    151.0  February - M021990  Andhra Pradesh  Hyderabad    NaN   \n",
       "2    152.0  February - M021990  Andhra Pradesh  Hyderabad    NaN   \n",
       "3    150.0     March - M031990  Andhra Pradesh  Hyderabad    NaN   \n",
       "4    151.0     March - M031990  Andhra Pradesh  Hyderabad    NaN   \n",
       "\n",
       "                                 type  so2   no2  rspm  spm  \\\n",
       "0  Residential, Rural and other Areas  4.8  17.4   NaN  NaN   \n",
       "1                     Industrial Area  3.1   7.0   NaN  NaN   \n",
       "2  Residential, Rural and other Areas  6.2  28.5   NaN  NaN   \n",
       "3  Residential, Rural and other Areas  6.3  14.7   NaN  NaN   \n",
       "4                     Industrial Area  4.7   7.5   NaN  NaN   \n",
       "\n",
       "  location_monitoring_station  pm2_5        date  \n",
       "0                         NaN    NaN  1990-02-01  \n",
       "1                         NaN    NaN  1990-02-01  \n",
       "2                         NaN    NaN  1990-02-01  \n",
       "3                         NaN    NaN  1990-03-01  \n",
       "4                         NaN    NaN  1990-03-01  "
      ]
     },
     "execution_count": 39,
     "metadata": {},
     "output_type": "execute_result"
    }
   ],
   "source": [
    "data.head(5)"
   ]
  },
  {
   "cell_type": "code",
   "execution_count": 47,
   "id": "57eab678-1b5e-4308-ad0f-c08050d0c562",
   "metadata": {},
   "outputs": [
    {
     "data": {
      "text/plain": [
       "Index(['stn_code', 'sampling_date', 'state', 'location', 'agency', 'type',\n",
       "       'so2', 'no2', 'rspm', 'spm', 'location_monitoring_station', 'pm2_5',\n",
       "       'date'],\n",
       "      dtype='object')"
      ]
     },
     "execution_count": 47,
     "metadata": {},
     "output_type": "execute_result"
    }
   ],
   "source": [
    "data.columns"
   ]
  },
  {
   "cell_type": "markdown",
   "id": "d99fe418-7af2-4e65-adf1-fea29d67847d",
   "metadata": {},
   "source": [
    "`std_code` : **Station Code**\n",
    "\n",
    "`sampling_date` : **Sampling Date**\n",
    "\n",
    "`state` : **State**\n",
    "\n",
    "`location` : **City**\n",
    "\n",
    "`agency` : **Agency**\n",
    "\n",
    "`type` : **Area Category**\n",
    "\n",
    "`so2` : **Sulphur Dioxide**\n",
    "\n",
    "`no2` : **Nitrogen Dioxide**\n",
    "\n",
    "`rspm` : **Respirable Suspended Particulate Matter**\n",
    "\n",
    "`spm` : **Suspended Particulate Matter**"
   ]
  },
  {
   "cell_type": "code",
   "execution_count": 50,
   "id": "dde53e87-2c45-4ab4-b201-c93fcc4897a9",
   "metadata": {},
   "outputs": [],
   "source": [
    "data = data.rename(\n",
    "    columns = {\n",
    "        'stn_code'      : 'Station_Code',\n",
    "        'sampling_date' : 'Sampling_Date',\n",
    "        'state'         : 'State',\n",
    "        'location'      : 'City',\n",
    "        'agency'        : 'Agency',\n",
    "        'type'          : 'Area_Category',\n",
    "        'so2'           : 'Sulphur_Dioxide',\n",
    "        'no2'           : 'Nitrogen_Dioxide',\n",
    "        'rspm'          : 'Respirable_Suspended_Particulate_Matter',\n",
    "        'spm'           : 'Suspended_Particulate_Matter',\n",
    "        'location_monitoring_station' : 'Location_Monitoring_Station',\n",
    "        'pm2_5'         : 'PM2.5',\n",
    "        'date'          : 'Date'\n",
    "    }\n",
    ")"
   ]
  },
  {
   "cell_type": "code",
   "execution_count": 56,
   "id": "09a19cbe-fa47-4faf-bc5e-7f1d6517234e",
   "metadata": {},
   "outputs": [
    {
     "name": "stdout",
     "output_type": "stream",
     "text": [
      "Index(['Station_Code', 'Sampling_Date', 'State', 'City', 'Agency',\n",
      "       'Area_Category', 'Sulphur_Dioxide', 'Nitrogen_Dioxide',\n",
      "       'Respirable_Suspended_Particulate_Matter',\n",
      "       'Suspended_Particulate_Matter', 'Location_Monitoring_Station', 'PM2.5',\n",
      "       'Date'],\n",
      "      dtype='object')\n"
     ]
    }
   ],
   "source": [
    "print(data.columns)"
   ]
  },
  {
   "cell_type": "code",
   "execution_count": 59,
   "id": "0f936892-7f02-4115-a21e-21477153a3e8",
   "metadata": {},
   "outputs": [
    {
     "data": {
      "text/html": [
       "<div>\n",
       "<style scoped>\n",
       "    .dataframe tbody tr th:only-of-type {\n",
       "        vertical-align: middle;\n",
       "    }\n",
       "\n",
       "    .dataframe tbody tr th {\n",
       "        vertical-align: top;\n",
       "    }\n",
       "\n",
       "    .dataframe thead th {\n",
       "        text-align: right;\n",
       "    }\n",
       "</style>\n",
       "<table border=\"1\" class=\"dataframe\">\n",
       "  <thead>\n",
       "    <tr style=\"text-align: right;\">\n",
       "      <th></th>\n",
       "      <th>Station_Code</th>\n",
       "      <th>Sampling_Date</th>\n",
       "      <th>State</th>\n",
       "      <th>City</th>\n",
       "      <th>Agency</th>\n",
       "      <th>Area_Category</th>\n",
       "      <th>Sulphur_Dioxide</th>\n",
       "      <th>Nitrogen_Dioxide</th>\n",
       "      <th>Respirable_Suspended_Particulate_Matter</th>\n",
       "      <th>Suspended_Particulate_Matter</th>\n",
       "      <th>Location_Monitoring_Station</th>\n",
       "      <th>PM2.5</th>\n",
       "      <th>Date</th>\n",
       "    </tr>\n",
       "  </thead>\n",
       "  <tbody>\n",
       "    <tr>\n",
       "      <th>0</th>\n",
       "      <td>150.0</td>\n",
       "      <td>February - M021990</td>\n",
       "      <td>Andhra Pradesh</td>\n",
       "      <td>Hyderabad</td>\n",
       "      <td>NaN</td>\n",
       "      <td>Residential, Rural and other Areas</td>\n",
       "      <td>4.8</td>\n",
       "      <td>17.4</td>\n",
       "      <td>NaN</td>\n",
       "      <td>NaN</td>\n",
       "      <td>NaN</td>\n",
       "      <td>NaN</td>\n",
       "      <td>1990-02-01</td>\n",
       "    </tr>\n",
       "    <tr>\n",
       "      <th>1</th>\n",
       "      <td>151.0</td>\n",
       "      <td>February - M021990</td>\n",
       "      <td>Andhra Pradesh</td>\n",
       "      <td>Hyderabad</td>\n",
       "      <td>NaN</td>\n",
       "      <td>Industrial Area</td>\n",
       "      <td>3.1</td>\n",
       "      <td>7.0</td>\n",
       "      <td>NaN</td>\n",
       "      <td>NaN</td>\n",
       "      <td>NaN</td>\n",
       "      <td>NaN</td>\n",
       "      <td>1990-02-01</td>\n",
       "    </tr>\n",
       "    <tr>\n",
       "      <th>2</th>\n",
       "      <td>152.0</td>\n",
       "      <td>February - M021990</td>\n",
       "      <td>Andhra Pradesh</td>\n",
       "      <td>Hyderabad</td>\n",
       "      <td>NaN</td>\n",
       "      <td>Residential, Rural and other Areas</td>\n",
       "      <td>6.2</td>\n",
       "      <td>28.5</td>\n",
       "      <td>NaN</td>\n",
       "      <td>NaN</td>\n",
       "      <td>NaN</td>\n",
       "      <td>NaN</td>\n",
       "      <td>1990-02-01</td>\n",
       "    </tr>\n",
       "  </tbody>\n",
       "</table>\n",
       "</div>"
      ],
      "text/plain": [
       "  Station_Code       Sampling_Date           State       City Agency  \\\n",
       "0        150.0  February - M021990  Andhra Pradesh  Hyderabad    NaN   \n",
       "1        151.0  February - M021990  Andhra Pradesh  Hyderabad    NaN   \n",
       "2        152.0  February - M021990  Andhra Pradesh  Hyderabad    NaN   \n",
       "\n",
       "                        Area_Category  Sulphur_Dioxide  Nitrogen_Dioxide  \\\n",
       "0  Residential, Rural and other Areas              4.8              17.4   \n",
       "1                     Industrial Area              3.1               7.0   \n",
       "2  Residential, Rural and other Areas              6.2              28.5   \n",
       "\n",
       "   Respirable_Suspended_Particulate_Matter  Suspended_Particulate_Matter  \\\n",
       "0                                      NaN                           NaN   \n",
       "1                                      NaN                           NaN   \n",
       "2                                      NaN                           NaN   \n",
       "\n",
       "  Location_Monitoring_Station  PM2.5        Date  \n",
       "0                         NaN    NaN  1990-02-01  \n",
       "1                         NaN    NaN  1990-02-01  \n",
       "2                         NaN    NaN  1990-02-01  "
      ]
     },
     "execution_count": 59,
     "metadata": {},
     "output_type": "execute_result"
    }
   ],
   "source": [
    "data.head(3)"
   ]
  },
  {
   "cell_type": "code",
   "execution_count": 73,
   "id": "f5e05d09-60ec-4a0f-816f-8529aa15a925",
   "metadata": {},
   "outputs": [
    {
     "name": "stdout",
     "output_type": "stream",
     "text": [
      "<class 'pandas.core.frame.DataFrame'>\n",
      "RangeIndex: 435742 entries, 0 to 435741\n",
      "Data columns (total 13 columns):\n",
      " #   Column                                   Non-Null Count   Dtype  \n",
      "---  ------                                   --------------   -----  \n",
      " 0   Station_Code                             291665 non-null  object \n",
      " 1   Sampling_Date                            435739 non-null  object \n",
      " 2   State                                    435742 non-null  object \n",
      " 3   City                                     435739 non-null  object \n",
      " 4   Agency                                   286261 non-null  object \n",
      " 5   Area_Category                            430349 non-null  object \n",
      " 6   Sulphur_Dioxide                          401096 non-null  float64\n",
      " 7   Nitrogen_Dioxide                         419509 non-null  float64\n",
      " 8   Respirable_Suspended_Particulate_Matter  395520 non-null  float64\n",
      " 9   Suspended_Particulate_Matter             198355 non-null  float64\n",
      " 10  Location_Monitoring_Station              408251 non-null  object \n",
      " 11  PM2.5                                    9314 non-null    float64\n",
      " 12  Date                                     435735 non-null  object \n",
      "dtypes: float64(5), object(8)\n",
      "memory usage: 43.2+ MB\n"
     ]
    }
   ],
   "source": [
    "data.info()"
   ]
  },
  {
   "cell_type": "markdown",
   "id": "e2ab89d5-7ad9-477c-89a6-4c4a12993d57",
   "metadata": {},
   "source": [
    "## Initial Analysis"
   ]
  },
  {
   "cell_type": "code",
   "execution_count": 40,
   "id": "3e113a9b-be6e-4cd5-87d1-b41054c91426",
   "metadata": {},
   "outputs": [
    {
     "data": {
      "text/plain": [
       "stn_code                       144077\n",
       "sampling_date                       3\n",
       "state                               0\n",
       "location                            3\n",
       "agency                         149481\n",
       "type                             5393\n",
       "so2                             34646\n",
       "no2                             16233\n",
       "rspm                            40222\n",
       "spm                            237387\n",
       "location_monitoring_station     27491\n",
       "pm2_5                          426428\n",
       "date                                7\n",
       "dtype: int64"
      ]
     },
     "execution_count": 40,
     "metadata": {},
     "output_type": "execute_result"
    }
   ],
   "source": [
    "data.isnull().sum()"
   ]
  },
  {
   "cell_type": "code",
   "execution_count": 72,
   "id": "535a0f8f-69a8-4055-9874-d863f01f3b6f",
   "metadata": {},
   "outputs": [
    {
     "data": {
      "image/png": "[encoded data removed]",
      "text/plain": [
       "<Figure size 600x600 with 2 Axes>"
      ]
     },
     "metadata": {},
     "output_type": "display_data"
    }
   ],
   "source": [
    "plt.figure(figsize = (6, 6))\n",
    "sns.heatmap(data.isnull())\n",
    "#plt.xticks(rotation = 60)\n",
    "plt.show()"
   ]
  },
  {
   "cell_type": "code",
   "execution_count": 42,
   "id": "800e98d5-93f5-418c-bce4-3a14abb05661",
   "metadata": {},
   "outputs": [
    {
     "name": "stdout",
     "output_type": "stream",
     "text": [
      "\u001b[1mFeature\t\t\t\tNULL Values\u001b[0m\n",
      "==========================================\n",
      "\n",
      "\u001b[1mpm2_5                           :  97.86 %\u001b[0m\n",
      "------------------------------------------\n",
      "\u001b[1mspm                             :  54.48 %\u001b[0m\n",
      "------------------------------------------\n",
      "\u001b[1magency                          :  34.30 %\u001b[0m\n",
      "------------------------------------------\n",
      "\u001b[1mstn_code                        :  33.06 %\u001b[0m\n",
      "------------------------------------------\n",
      "rspm                            :  9.23 %\n",
      "------------------------------------------\n",
      "so2                             :  7.95 %\n",
      "------------------------------------------\n",
      "location_monitoring_station     :  6.31 %\n",
      "------------------------------------------\n",
      "no2                             :  3.73 %\n",
      "------------------------------------------\n",
      "type                            :  1.24 %\n",
      "------------------------------------------\n",
      "date                            :  0.00 %\n",
      "------------------------------------------\n",
      "sampling_date                   :  0.00 %\n",
      "------------------------------------------\n",
      "location                        :  0.00 %\n",
      "------------------------------------------\n"
     ]
    }
   ],
   "source": [
    "print(f\"{B}Feature\\t\\t\\t\\tNULL Values{R}\")\n",
    "print(f\"==========================================\\n\")\n",
    "null_percentages = data.isnull().mean() * 100\n",
    "null_percentages = null_percentages[null_percentages > 0].sort_values(ascending=False)\n",
    "for feature, null_count in null_percentages.items():\n",
    "    #null_percent = (null_count * 100) / data.shape[0]\n",
    "    if null_count > 10:\n",
    "        print(f\"{B}{feature:<30}  :  {null_count:.2f} %{R}\")\n",
    "        print(f\"------------------------------------------\")\n",
    "    else:\n",
    "        print(f\"{feature:<30}  :  {null_count:.2f} %\")\n",
    "        print(f\"------------------------------------------\")"
   ]
  },
  {
   "cell_type": "code",
   "execution_count": 43,
   "id": "8666f74e-71c1-4bab-af0b-0995e1d6136a",
   "metadata": {},
   "outputs": [
    {
     "name": "stdout",
     "output_type": "stream",
     "text": [
      "<class 'pandas.core.frame.DataFrame'>\n",
      "RangeIndex: 435742 entries, 0 to 435741\n",
      "Data columns (total 13 columns):\n",
      " #   Column                       Non-Null Count   Dtype  \n",
      "---  ------                       --------------   -----  \n",
      " 0   stn_code                     291665 non-null  object \n",
      " 1   sampling_date                435739 non-null  object \n",
      " 2   state                        435742 non-null  object \n",
      " 3   location                     435739 non-null  object \n",
      " 4   agency                       286261 non-null  object \n",
      " 5   type                         430349 non-null  object \n",
      " 6   so2                          401096 non-null  float64\n",
      " 7   no2                          419509 non-null  float64\n",
      " 8   rspm                         395520 non-null  float64\n",
      " 9   spm                          198355 non-null  float64\n",
      " 10  location_monitoring_station  408251 non-null  object \n",
      " 11  pm2_5                        9314 non-null    float64\n",
      " 12  date                         435735 non-null  object \n",
      "dtypes: float64(5), object(8)\n",
      "memory usage: 43.2+ MB\n"
     ]
    }
   ],
   "source": [
    "data.info()"
   ]
  },
  {
   "cell_type": "code",
   "execution_count": 45,
   "id": "7642660d-3908-40bc-a410-60cefbfe539e",
   "metadata": {},
   "outputs": [
    {
     "data": {
      "text/plain": [
       "stn_code                        803\n",
       "sampling_date                  5485\n",
       "state                            37\n",
       "location                        304\n",
       "agency                           64\n",
       "type                             10\n",
       "so2                            4197\n",
       "no2                            6864\n",
       "rspm                           6065\n",
       "spm                            6668\n",
       "location_monitoring_station     991\n",
       "pm2_5                           433\n",
       "date                           5067\n",
       "dtype: int64"
      ]
     },
     "execution_count": 45,
     "metadata": {},
     "output_type": "execute_result"
    }
   ],
   "source": [
    "data.nunique()"
   ]
  },
  {
   "cell_type": "markdown",
   "id": "40e59400-2b55-4012-b18a-57fdc9aaed81",
   "metadata": {},
   "source": [
    "## Data Dictionary: Key Pollutants\n",
    "\n",
    "| Column Name | Full Form | Description | Health Impact |\n",
    "|-------------|------------|-------------|----------------|\n",
    "| **PM2.5** | Particulate Matter ≤ 2.5 microns | Fine airborne particles from combustion, dust, and smoke. Can penetrate deep into lungs. | Linked to heart disease, stroke, and respiratory issues |\n",
    "| **PM10** | Particulate Matter ≤ 10 microns | Larger particles like dust, pollen, and mold. Suspended in air. | Causes respiratory irritation and worsens asthma |\n",
    "| **NO₂** | Nitrogen Dioxide | Emitted from vehicles and industrial processes. Contributes to smog. | Irritates lungs and increases risk of infections |\n",
    "| **SO₂** | Sulfur Dioxide | Produced by burning coal and oil. Can form acid rain. | Triggers asthma and other respiratory problems |\n",
    "| **CO** | Carbon Monoxide | Colorless gas from incomplete combustion. Highly toxic in enclosed spaces. | Reduces oxygen delivery in body; can be fatal at high levels |\n",
    "| **O₃** | Ozone (Ground-level) | Formed by sunlight reacting with pollutants. Not emitted directly. | Causes chest pain, coughing, and worsens lung diseases |"
   ]
  },
  {
   "cell_type": "markdown",
   "id": "c2b0aa29-86bc-4c1b-b2da-5995aa9b2bab",
   "metadata": {},
   "source": [
    "### Exploring Time Range"
   ]
  },
  {
   "cell_type": "code",
   "execution_count": 169,
   "id": "7f420f38-4698-4d9b-bb4e-d54113417b9c",
   "metadata": {},
   "outputs": [],
   "source": [
    "data['Date'] = pd.to_datetime(data['Date'], errors = 'coerce',)\n",
    "\n",
    "data['Month'] = data['Date'].dt.month\n",
    "data['Month'] = data['Month'].astype('Int64')\n",
    "\n",
    "data['Year'] = data['Date'].dt.year\n",
    "data['Year'] = data['Year'].astype('Int64')"
   ]
  },
  {
   "cell_type": "code",
   "execution_count": 164,
   "id": "eb531b8e-af7a-48fe-8332-70e2e6c84a92",
   "metadata": {},
   "outputs": [
    {
     "name": "stdout",
     "output_type": "stream",
     "text": [
      "Date ranges from \u001b[1m1987-01-01\u001b[0m to \u001b[1m2015-12-31\u001b[0m\n"
     ]
    }
   ],
   "source": [
    "print(f\"Date ranges from {B}{data['Date'].min().date()}{R} to {B}{data['Date'].max().date()}{R}\")"
   ]
  },
  {
   "cell_type": "markdown",
   "id": "2dee07c8-167f-4d40-b112-dd457be79bcc",
   "metadata": {},
   "source": [
    "### Exploring States and Cities"
   ]
  },
  {
   "cell_type": "code",
   "execution_count": 106,
   "id": "f04b5c17-4469-48fb-b81d-858700ec4924",
   "metadata": {},
   "outputs": [
    {
     "name": "stdout",
     "output_type": "stream",
     "text": [
      "Total States found : \u001b[1m37\u001b[0m\n",
      "Records : \u001b[1m['Andhra Pradesh', 'Arunachal Pradesh', 'Assam', 'Bihar', 'Chandigarh', 'Chhattisgarh', 'Dadra & Nagar Haveli', 'Daman & Diu', 'Delhi', 'Goa', 'Gujarat', 'Haryana', 'Himachal Pradesh', 'Jammu & Kashmir', 'Jharkhand', 'Karnataka', 'Kerala', 'Lakshadweep', 'Madhya Pradesh', 'Maharashtra', 'Manipur', 'Meghalaya', 'Mizoram', 'Nagaland', 'Odisha', 'Puducherry', 'Punjab', 'Rajasthan', 'Sikkim', 'Tamil Nadu', 'Telangana', 'Tripura', 'Uttar Pradesh', 'Uttarakhand', 'Uttaranchal', 'West Bengal', 'andaman-and-nicobar-islands']\u001b[0m\n"
     ]
    }
   ],
   "source": [
    "print(f\"Total States found : {B}{data['State'].nunique()}{R}\")\n",
    "states = pd.Series(data['State'].unique()).sort_values().to_list()\n",
    "print(f\"Records : {B}{states}{R}\")"
   ]
  },
  {
   "cell_type": "markdown",
   "id": "a05bcc9a-db9f-4b47-8e5e-13937c2bd87d",
   "metadata": {},
   "source": [
    "#### List of the Union Territories: \n",
    " - Andaman and Nicobar Islands\n",
    " - Chandigarh\n",
    " - Delhi (National Capital Territory of Delhi)\n",
    " - Jammu and Kashmir\n",
    " - Ladakh\n",
    " - Lakshadweep\n",
    " - Puducherry\n",
    " - Dadra and Nagar Haveli and Daman and Diu\n",
    "\n",
    "We can see `Dadra and Nagar Haveli` and `Daman and Diu` are listed separately here, however `Daman and Diu` was a union territory of India, now merged with `Dadra and Nagar` Haveli into the union territory of `Dadra and Nagar Haveli and Daman and Diu` in 2020."
   ]
  },
  {
   "cell_type": "code",
   "execution_count": 131,
   "id": "a916645d-c463-4a07-a5d2-8be12042e99d",
   "metadata": {},
   "outputs": [
    {
     "name": "stdout",
     "output_type": "stream",
     "text": [
      "Total Cities found : \u001b[1m304\u001b[0m\n"
     ]
    },
    {
     "data": {
      "text/plain": [
       "[]"
      ]
     },
     "execution_count": 131,
     "metadata": {},
     "output_type": "execute_result"
    },
    {
     "data": {
      "image/png": "[encoded data removed]",
      "text/plain": [
       "<Figure size 1000x700 with 1 Axes>"
      ]
     },
     "metadata": {},
     "output_type": "display_data"
    }
   ],
   "source": [
    "print(f\"Total Cities found : {B}{data['City'].nunique()}{R}\")\n",
    "\n",
    "# Top 'n' ..\n",
    "n = 20\n",
    "cities = data['City'].value_counts().nlargest(n).index\n",
    "\n",
    "plt.figure(figsize = (10, 7))\n",
    "sns.countplot(x = 'City',\n",
    "              data = data[data['City'].isin(cities)],\n",
    "              order = cities,\n",
    "              palette = sns.color_palette('husl', len(cities))\n",
    "             )\n",
    "plt.title(f'Frequency of Data per City(Top : {n})\\n', fontweight = 'bold')\n",
    "plt.xlabel('City')\n",
    "plt.ylabel('Count')\n",
    "plt.xticks(rotation=45, ha='right')\n",
    "plt.tight_layout() \n",
    "plt.plot()"
   ]
  },
  {
   "cell_type": "markdown",
   "id": "aa88bce7-676e-4dbe-8633-2738369bfa5c",
   "metadata": {},
   "source": [
    "### Exploring Pollutants"
   ]
  },
  {
   "cell_type": "code",
   "execution_count": 132,
   "id": "59651184-9cfa-44aa-8550-218ea99d0078",
   "metadata": {},
   "outputs": [
    {
     "data": {
      "text/plain": [
       "Index(['Station_Code', 'Sampling_Date', 'State', 'City', 'Agency',\n",
       "       'Area_Category', 'Sulphur_Dioxide', 'Nitrogen_Dioxide',\n",
       "       'Respirable_Suspended_Particulate_Matter',\n",
       "       'Suspended_Particulate_Matter', 'Location_Monitoring_Station', 'PM2.5',\n",
       "       'Date', 'Month', 'Year'],\n",
       "      dtype='object')"
      ]
     },
     "execution_count": 132,
     "metadata": {},
     "output_type": "execute_result"
    }
   ],
   "source": [
    "data.columns"
   ]
  },
  {
   "cell_type": "code",
   "execution_count": 134,
   "id": "6251f5cc-ae9c-4cc8-abd4-54f474a365fa",
   "metadata": {},
   "outputs": [],
   "source": [
    "pollutants = ['Sulphur_Dioxide', 'Nitrogen_Dioxide', 'Respirable_Suspended_Particulate_Matter', 'Suspended_Particulate_Matter', 'PM2.5']"
   ]
  },
  {
   "cell_type": "markdown",
   "id": "0a8a904c-6073-40e8-b072-b4719d3addb3",
   "metadata": {},
   "source": [
    "Before working we need to change the data_type of pollutants from Object to Float."
   ]
  },
  {
   "cell_type": "code",
   "execution_count": 138,
   "id": "c551bec6-ffc7-499d-ae3f-a7bb0755a5cc",
   "metadata": {},
   "outputs": [
    {
     "name": "stdout",
     "output_type": "stream",
     "text": [
      "Station_Code                                       object\n",
      "Sampling_Date                                      object\n",
      "State                                              object\n",
      "City                                               object\n",
      "Agency                                             object\n",
      "Area_Category                                      object\n",
      "Sulphur_Dioxide                                   float64\n",
      "Nitrogen_Dioxide                                  float64\n",
      "Respirable_Suspended_Particulate_Matter           float64\n",
      "Suspended_Particulate_Matter                      float64\n",
      "Location_Monitoring_Station                        object\n",
      "PM2.5                                             float64\n",
      "Date                                       datetime64[ns]\n",
      "Month                                             float64\n",
      "Year                                              float64\n",
      "dtype: object\n"
     ]
    }
   ],
   "source": [
    "for pollutant in pollutants:\n",
    "    data[pollutant] = pd.to_numeric(data[pollutant], errors = 'coerce')\n",
    "print(data.dtypes)"
   ]
  },
  {
   "cell_type": "code",
   "execution_count": 140,
   "id": "cc3aee9d-28fe-4f1f-bab1-d463e0868e38",
   "metadata": {},
   "outputs": [
    {
     "data": {
      "text/html": [
       "<div>\n",
       "<style scoped>\n",
       "    .dataframe tbody tr th:only-of-type {\n",
       "        vertical-align: middle;\n",
       "    }\n",
       "\n",
       "    .dataframe tbody tr th {\n",
       "        vertical-align: top;\n",
       "    }\n",
       "\n",
       "    .dataframe thead th {\n",
       "        text-align: right;\n",
       "    }\n",
       "</style>\n",
       "<table border=\"1\" class=\"dataframe\">\n",
       "  <thead>\n",
       "    <tr style=\"text-align: right;\">\n",
       "      <th></th>\n",
       "      <th>count</th>\n",
       "      <th>mean</th>\n",
       "      <th>std</th>\n",
       "      <th>min</th>\n",
       "      <th>25%</th>\n",
       "      <th>50%</th>\n",
       "      <th>75%</th>\n",
       "      <th>max</th>\n",
       "    </tr>\n",
       "  </thead>\n",
       "  <tbody>\n",
       "    <tr>\n",
       "      <th>Sulphur_Dioxide</th>\n",
       "      <td>401096.0</td>\n",
       "      <td>10.829414</td>\n",
       "      <td>11.177187</td>\n",
       "      <td>0.0</td>\n",
       "      <td>5.0</td>\n",
       "      <td>8.0</td>\n",
       "      <td>13.7</td>\n",
       "      <td>909.000000</td>\n",
       "    </tr>\n",
       "    <tr>\n",
       "      <th>Nitrogen_Dioxide</th>\n",
       "      <td>419509.0</td>\n",
       "      <td>25.809623</td>\n",
       "      <td>18.503086</td>\n",
       "      <td>0.0</td>\n",
       "      <td>14.0</td>\n",
       "      <td>22.0</td>\n",
       "      <td>32.2</td>\n",
       "      <td>876.000000</td>\n",
       "    </tr>\n",
       "    <tr>\n",
       "      <th>Respirable_Suspended_Particulate_Matter</th>\n",
       "      <td>395520.0</td>\n",
       "      <td>108.832784</td>\n",
       "      <td>74.872430</td>\n",
       "      <td>0.0</td>\n",
       "      <td>56.0</td>\n",
       "      <td>90.0</td>\n",
       "      <td>142.0</td>\n",
       "      <td>6307.033333</td>\n",
       "    </tr>\n",
       "    <tr>\n",
       "      <th>Suspended_Particulate_Matter</th>\n",
       "      <td>198355.0</td>\n",
       "      <td>220.783480</td>\n",
       "      <td>151.395457</td>\n",
       "      <td>0.0</td>\n",
       "      <td>111.0</td>\n",
       "      <td>187.0</td>\n",
       "      <td>296.0</td>\n",
       "      <td>3380.000000</td>\n",
       "    </tr>\n",
       "    <tr>\n",
       "      <th>PM2.5</th>\n",
       "      <td>9314.0</td>\n",
       "      <td>40.791467</td>\n",
       "      <td>30.832525</td>\n",
       "      <td>3.0</td>\n",
       "      <td>24.0</td>\n",
       "      <td>32.0</td>\n",
       "      <td>46.0</td>\n",
       "      <td>504.000000</td>\n",
       "    </tr>\n",
       "  </tbody>\n",
       "</table>\n",
       "</div>"
      ],
      "text/plain": [
       "                                            count        mean         std  \\\n",
       "Sulphur_Dioxide                          401096.0   10.829414   11.177187   \n",
       "Nitrogen_Dioxide                         419509.0   25.809623   18.503086   \n",
       "Respirable_Suspended_Particulate_Matter  395520.0  108.832784   74.872430   \n",
       "Suspended_Particulate_Matter             198355.0  220.783480  151.395457   \n",
       "PM2.5                                      9314.0   40.791467   30.832525   \n",
       "\n",
       "                                         min    25%    50%    75%          max  \n",
       "Sulphur_Dioxide                          0.0    5.0    8.0   13.7   909.000000  \n",
       "Nitrogen_Dioxide                         0.0   14.0   22.0   32.2   876.000000  \n",
       "Respirable_Suspended_Particulate_Matter  0.0   56.0   90.0  142.0  6307.033333  \n",
       "Suspended_Particulate_Matter             0.0  111.0  187.0  296.0  3380.000000  \n",
       "PM2.5                                    3.0   24.0   32.0   46.0   504.000000  "
      ]
     },
     "execution_count": 140,
     "metadata": {},
     "output_type": "execute_result"
    }
   ],
   "source": [
    "data[pollutants].describe().T"
   ]
  },
  {
   "cell_type": "code",
   "execution_count": 172,
   "id": "d7804b3c-3773-4e61-9f2f-424a4ebdfb69",
   "metadata": {},
   "outputs": [
    {
     "data": {
      "text/plain": [
       "City\n",
       "ANKLESHWAR        32.556886\n",
       "Agra                    NaN\n",
       "Ahmedabad         29.115506\n",
       "Aizawl                  NaN\n",
       "Akola                   NaN\n",
       "                    ...    \n",
       "Warangal                NaN\n",
       "Wayanad                 NaN\n",
       "West Singhbhum          NaN\n",
       "Yamuna Nagar            NaN\n",
       "Yamunanagar             NaN\n",
       "Name: PM2.5, Length: 304, dtype: float64"
      ]
     },
     "execution_count": 172,
     "metadata": {},
     "output_type": "execute_result"
    }
   ],
   "source": [
    "data.groupby('City')['PM2.5'].mean()"
   ]
  },
  {
   "cell_type": "code",
   "execution_count": 171,
   "id": "526a0f44-66c0-4fd4-8372-4a94d9b14751",
   "metadata": {},
   "outputs": [
    {
     "data": {
      "text/plain": [
       "Year\n",
       "1987          NaN\n",
       "1988          NaN\n",
       "1989          NaN\n",
       "1990          NaN\n",
       "1991          NaN\n",
       "1992          NaN\n",
       "1993          NaN\n",
       "1994          NaN\n",
       "1995          NaN\n",
       "1996          NaN\n",
       "1997          NaN\n",
       "1998          NaN\n",
       "1999          NaN\n",
       "2000          NaN\n",
       "2001          NaN\n",
       "2002          NaN\n",
       "2003          NaN\n",
       "2004          NaN\n",
       "2005          NaN\n",
       "2006          NaN\n",
       "2007          NaN\n",
       "2008          NaN\n",
       "2009          NaN\n",
       "2010          NaN\n",
       "2011          NaN\n",
       "2012          NaN\n",
       "2013          NaN\n",
       "2014    37.600465\n",
       "2015    42.012726\n",
       "Name: PM2.5, dtype: float64"
      ]
     },
     "execution_count": 171,
     "metadata": {},
     "output_type": "execute_result"
    }
   ],
   "source": [
    "data.groupby('Year')['PM2.5'].mean()"
   ]
  },
  {
   "cell_type": "code",
   "execution_count": 170,
   "id": "621ecf0c-5957-4b5c-a6e3-36fcf5204f62",
   "metadata": {},
   "outputs": [
    {
     "data": {
      "text/html": [
       "<div>\n",
       "<style scoped>\n",
       "    .dataframe tbody tr th:only-of-type {\n",
       "        vertical-align: middle;\n",
       "    }\n",
       "\n",
       "    .dataframe tbody tr th {\n",
       "        vertical-align: top;\n",
       "    }\n",
       "\n",
       "    .dataframe thead th {\n",
       "        text-align: right;\n",
       "    }\n",
       "</style>\n",
       "<table border=\"1\" class=\"dataframe\">\n",
       "  <thead>\n",
       "    <tr style=\"text-align: right;\">\n",
       "      <th></th>\n",
       "      <th>Station_Code</th>\n",
       "      <th>Sampling_Date</th>\n",
       "      <th>State</th>\n",
       "      <th>City</th>\n",
       "      <th>Agency</th>\n",
       "      <th>Area_Category</th>\n",
       "      <th>Sulphur_Dioxide</th>\n",
       "      <th>Nitrogen_Dioxide</th>\n",
       "      <th>Respirable_Suspended_Particulate_Matter</th>\n",
       "      <th>Suspended_Particulate_Matter</th>\n",
       "      <th>Location_Monitoring_Station</th>\n",
       "      <th>PM2.5</th>\n",
       "      <th>Date</th>\n",
       "      <th>Month</th>\n",
       "      <th>Year</th>\n",
       "    </tr>\n",
       "  </thead>\n",
       "  <tbody>\n",
       "    <tr>\n",
       "      <th>0</th>\n",
       "      <td>150.0</td>\n",
       "      <td>February - M021990</td>\n",
       "      <td>Andhra Pradesh</td>\n",
       "      <td>Hyderabad</td>\n",
       "      <td>NaN</td>\n",
       "      <td>Residential, Rural and other Areas</td>\n",
       "      <td>4.8</td>\n",
       "      <td>17.4</td>\n",
       "      <td>NaN</td>\n",
       "      <td>NaN</td>\n",
       "      <td>NaN</td>\n",
       "      <td>NaN</td>\n",
       "      <td>1990-02-01</td>\n",
       "      <td>2</td>\n",
       "      <td>1990</td>\n",
       "    </tr>\n",
       "  </tbody>\n",
       "</table>\n",
       "</div>"
      ],
      "text/plain": [
       "  Station_Code       Sampling_Date           State       City Agency  \\\n",
       "0        150.0  February - M021990  Andhra Pradesh  Hyderabad    NaN   \n",
       "\n",
       "                        Area_Category  Sulphur_Dioxide  Nitrogen_Dioxide  \\\n",
       "0  Residential, Rural and other Areas              4.8              17.4   \n",
       "\n",
       "   Respirable_Suspended_Particulate_Matter  Suspended_Particulate_Matter  \\\n",
       "0                                      NaN                           NaN   \n",
       "\n",
       "  Location_Monitoring_Station  PM2.5       Date  Month  Year  \n",
       "0                         NaN    NaN 1990-02-01      2  1990  "
      ]
     },
     "execution_count": 170,
     "metadata": {},
     "output_type": "execute_result"
    }
   ],
   "source": [
    "data.head(1)"
   ]
  },
  {
   "cell_type": "markdown",
   "id": "00dd6154-2297-470d-a20c-3c0a8947fdca",
   "metadata": {},
   "source": [
    "### Handling Missing/NULL Values"
   ]
  },
  {
   "cell_type": "code",
   "execution_count": 180,
   "id": "c018a07a-1fdd-4b16-8dcc-90a761f63d87",
   "metadata": {},
   "outputs": [
    {
     "data": {
      "text/plain": [
       "PM2.5                                      97.862497\n",
       "Suspended_Particulate_Matter               54.478797\n",
       "Agency                                     34.304933\n",
       "Station_Code                               33.064749\n",
       "Respirable_Suspended_Particulate_Matter     9.230692\n",
       "Sulphur_Dioxide                             7.951035\n",
       "Location_Monitoring_Station                 6.309009\n",
       "Nitrogen_Dioxide                            3.725370\n",
       "Area_Category                               1.237659\n",
       "Date                                        0.001606\n",
       "Month                                       0.001606\n",
       "Year                                        0.001606\n",
       "Sampling_Date                               0.000688\n",
       "City                                        0.000688\n",
       "State                                       0.000000\n",
       "dtype: float64"
      ]
     },
     "execution_count": 180,
     "metadata": {},
     "output_type": "execute_result"
    }
   ],
   "source": [
    "((data.isnull().sum() / len(data)) * 100).sort_values(ascending = False)"
   ]
  },
  {
   "cell_type": "markdown",
   "id": "f509ced2-ffe9-4cbe-8bab-b1b77e27f4ce",
   "metadata": {},
   "source": []
  }
 ],
 "metadata": {
  "kernelspec": {
   "display_name": "Python 3 (ipykernel)",
   "language": "python",
   "name": "python3"
  },
  "language_info": {
   "codemirror_mode": {
    "name": "ipython",
    "version": 3
   },
   "file_extension": ".py",
   "mimetype": "text/x-python",
   "name": "python",
   "nbconvert_exporter": "python",
   "pygments_lexer": "ipython3",
   "version": "3.12.7"
  }
 },
 "nbformat": 4,
 "nbformat_minor": 5
}
